{
 "cells": [
  {
   "cell_type": "code",
   "execution_count": null,
   "id": "10060205-05e8-44fc-94a2-7ecc6a7b7e03",
   "metadata": {},
   "outputs": [],
   "source": [
    "!pip install seaborn pandas matplotlib numpy"
   ]
  },
  {
   "cell_type": "code",
   "execution_count": null,
   "id": "baf5ab4a-fbac-43c7-9863-39b9f9286d93",
   "metadata": {},
   "outputs": [],
   "source": [
    "import pandas as pd\n",
    "import numpy as np\n",
    "import matplotlib.pyplot as plt\n",
    "import seaborn as sns\n",
    "import warnings as wr\n",
    "wr.filterwarnings('ignore')"
   ]
  },
  {
   "cell_type": "code",
   "execution_count": null,
   "id": "0d5c546f-66d2-4a34-a05d-b3d0b1d60c0d",
   "metadata": {},
   "outputs": [],
   "source": [
    "customers=pd.read_csv(\"Customers.csv\")\n",
    "print(customers.head())"
   ]
  },
  {
   "cell_type": "code",
   "execution_count": null,
   "id": "a1afebc0-f34f-4237-a351-07bbe5148259",
   "metadata": {},
   "outputs": [],
   "source": [
    "customers.shape"
   ]
  },
  {
   "cell_type": "code",
   "execution_count": null,
   "id": "c04d2b86-68c6-4639-a145-c015d785740d",
   "metadata": {},
   "outputs": [],
   "source": [
    "customers.info()"
   ]
  },
  {
   "cell_type": "code",
   "execution_count": null,
   "id": "ec67309e-9919-4168-aec8-4c2742e41c0d",
   "metadata": {},
   "outputs": [],
   "source": [
    "Products=pd.read_csv(\"Products.csv\")\n",
    "print(Products.head())"
   ]
  },
  {
   "cell_type": "code",
   "execution_count": null,
   "id": "a84b1b37-8a1a-4374-b40a-011220f46d08",
   "metadata": {},
   "outputs": [],
   "source": [
    "Transactions=pd.read_csv(\"Transactions.csv\")\n",
    "print(Transactions.head())"
   ]
  },
  {
   "cell_type": "code",
   "execution_count": null,
   "id": "f6a992cd-a715-4f3e-b655-4f4d79052fc9",
   "metadata": {},
   "outputs": [],
   "source": [
    "Products.shape"
   ]
  },
  {
   "cell_type": "code",
   "execution_count": null,
   "id": "0e305a2d-6e57-4045-95a7-275682cd027f",
   "metadata": {},
   "outputs": [],
   "source": [
    "Transactions.shape"
   ]
  },
  {
   "cell_type": "code",
   "execution_count": null,
   "id": "e5ae0784-71f4-4c56-a275-9c6768a10a7d",
   "metadata": {},
   "outputs": [],
   "source": [
    "Products.info()"
   ]
  },
  {
   "cell_type": "code",
   "execution_count": null,
   "id": "bb3a09a7-6381-4bae-9de3-c85d312496a1",
   "metadata": {},
   "outputs": [],
   "source": [
    "Transactions.info()"
   ]
  },
  {
   "cell_type": "code",
   "execution_count": null,
   "id": "eb2e700a-3628-4b72-80ed-ab36838a4ed3",
   "metadata": {},
   "outputs": [],
   "source": [
    "pd.isnull(customers).sum()"
   ]
  },
  {
   "cell_type": "code",
   "execution_count": null,
   "id": "dea10b40-52d3-4153-a194-636dccb1f2ee",
   "metadata": {},
   "outputs": [],
   "source": [
    "pd.isnull(Products).sum()"
   ]
  },
  {
   "cell_type": "code",
   "execution_count": null,
   "id": "f3c70460-3f5c-43b9-9d08-75dec4b580aa",
   "metadata": {},
   "outputs": [],
   "source": [
    "pd.isnull(Transactions).sum()"
   ]
  },
  {
   "cell_type": "code",
   "execution_count": null,
   "id": "4da8e31e-626b-4f78-8d6c-86be692814c6",
   "metadata": {},
   "outputs": [],
   "source": [
    "customers['SignupDate'] = pd.to_datetime(customers['SignupDate'])\n",
    "Transactions['TransactionDate'] = pd.to_datetime(Transactions['TransactionDate'])"
   ]
  },
  {
   "cell_type": "code",
   "execution_count": null,
   "id": "4bf862d3-6260-4d60-8f42-9b83071da6e9",
   "metadata": {},
   "outputs": [],
   "source": [
    "mergeddata = Transactions.merge(customers, on='CustomerID').merge(Products, on='ProductID')"
   ]
  },
  {
   "cell_type": "code",
   "execution_count": null,
   "id": "ca470ae2-c7af-402c-88fb-7f73c1e3a7a3",
   "metadata": {},
   "outputs": [],
   "source": [
    "productrevenue = mergeddata.groupby('ProductName')['TotalValue'].sum().sort_values(ascending=False)"
   ]
  },
  {
   "cell_type": "code",
   "execution_count": null,
   "id": "0b0b4075-f6b5-47d1-b93b-44bf9b3ee5eb",
   "metadata": {},
   "outputs": [],
   "source": [
    "print(\"\\nTop Products by Revenue:\\n\", productrevenue.head())"
   ]
  },
  {
   "cell_type": "code",
   "execution_count": null,
   "id": "38115d25-1fbb-4e48-8127-ef68465d1357",
   "metadata": {},
   "outputs": [],
   "source": [
    "regioncustomers = customers['Region'].value_counts()\n",
    "print(\"\\nCustomers by Region:\\n\", regioncustomers)"
   ]
  },
  {
   "cell_type": "code",
   "execution_count": null,
   "id": "3ac3984e-3012-43e8-a69e-77e086e163a2",
   "metadata": {},
   "outputs": [],
   "source": [
    "mergeddata['MonthYear'] = mergeddata['TransactionDate'].dt.to_period('M')\n",
    "monthlyrevenue = mergeddata.groupby('MonthYear')['TotalValue'].sum()\n",
    "print(\"\\nMonthly Revenue Trends:\\n\", monthlyrevenue)"
   ]
  },
  {
   "cell_type": "code",
   "execution_count": null,
   "id": "98e6c4d1-942a-4454-9775-c9adec78ef25",
   "metadata": {},
   "outputs": [],
   "source": [
    "mergeddata['DaysSinceSignup'] = (mergeddata['TransactionDate'] - mergeddata['SignupDate']).dt.days\n",
    "signupcorrelation = mergeddata.groupby('CustomerID')['DaysSinceSignup'].mean()\n",
    "print(\"\\nAverage Days Since Signup per Customer:\\n\", signupcorrelation.head())"
   ]
  },
  {
   "cell_type": "code",
   "execution_count": null,
   "id": "4e73425f-9cc9-4d09-a98a-d8b4b7d31a34",
   "metadata": {},
   "outputs": [],
   "source": [
    "categoryrevenue = mergeddata.groupby('Category')['TotalValue'].sum().sort_values(ascending=False)\n",
    "print(\"\\nTop Categories by Revenue:\\n\", categoryrevenue.head())"
   ]
  },
  {
   "cell_type": "code",
   "execution_count": null,
   "id": "7a9c8ff2-0b0a-483f-bc41-d341f0aa4598",
   "metadata": {},
   "outputs": [],
   "source": [
    "plt.figure(figsize=(12, 5))\n",
    "plt.title(\"Top Products by Revenue\")\n",
    "productrevenue.head(12).plot(kind='bar', color='purple')\n",
    "plt.xlabel(\"Products\")\n",
    "plt.ylabel(\"Revenue\")\n",
    "plt.show()"
   ]
  },
  {
   "cell_type": "code",
   "execution_count": null,
   "id": "45b4d939-d4eb-49e3-a12d-5a9ac884e338",
   "metadata": {},
   "outputs": [],
   "source": [
    "plt.figure(figsize=(10, 5))\n",
    "plt.title(\"Customers by Region\")\n",
    "regioncustomers.plot(kind='bar', color='skyblue')\n",
    "plt.xlabel(\"Region\")\n",
    "plt.ylabel(\"Number of Customers\")\n",
    "plt.show()"
   ]
  },
  {
   "cell_type": "code",
   "execution_count": null,
   "id": "765ffd3a-626c-4ddc-9c64-c53da3926e6f",
   "metadata": {
    "scrolled": true
   },
   "outputs": [],
   "source": [
    "plt.figure(figsize=(10, 5))\n",
    "plt.title(\"Monthly Revenue Trends\")\n",
    "monthlyrevenue.plot(marker='o', color='pink')\n",
    "plt.xlabel(\"Month-Year\")\n",
    "plt.ylabel(\"Revenue\")\n",
    "plt.grid()\n",
    "plt.show()"
   ]
  }
 ],
 "metadata": {
  "kernelspec": {
   "display_name": "Python 3 (ipykernel)",
   "language": "python",
   "name": "python3"
  },
  "language_info": {
   "codemirror_mode": {
    "name": "ipython",
    "version": 3
   },
   "file_extension": ".py",
   "mimetype": "text/x-python",
   "name": "python",
   "nbconvert_exporter": "python",
   "pygments_lexer": "ipython3",
   "version": "3.13.1"
  }
 },
 "nbformat": 4,
 "nbformat_minor": 5
}
