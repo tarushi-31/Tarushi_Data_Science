{
 "cells": [
  {
   "cell_type": "code",
   "execution_count": 3,
   "id": "37528e39-d73a-41bf-a739-4169fcb9eeb2",
   "metadata": {},
   "outputs": [
    {
     "name": "stdout",
     "output_type": "stream",
     "text": [
      "Requirement already satisfied: scikit-learn in c:\\users\\user\\appdata\\local\\programs\\python\\python313\\lib\\site-packages (1.6.1)"
     ]
    },
    {
     "name": "stderr",
     "output_type": "stream",
     "text": [
      "\n",
      "[notice] A new release of pip is available: 24.3.1 -> 25.0\n",
      "[notice] To update, run: python.exe -m pip install --upgrade pip\n"
     ]
    },
    {
     "name": "stdout",
     "output_type": "stream",
     "text": [
      "\n",
      "Requirement already satisfied: numpy>=1.19.5 in c:\\users\\user\\appdata\\local\\programs\\python\\python313\\lib\\site-packages (from scikit-learn) (2.2.2)\n",
      "Requirement already satisfied: scipy>=1.6.0 in c:\\users\\user\\appdata\\local\\programs\\python\\python313\\lib\\site-packages (from scikit-learn) (1.15.1)\n",
      "Requirement already satisfied: joblib>=1.2.0 in c:\\users\\user\\appdata\\local\\programs\\python\\python313\\lib\\site-packages (from scikit-learn) (1.4.2)\n",
      "Requirement already satisfied: threadpoolctl>=3.1.0 in c:\\users\\user\\appdata\\local\\programs\\python\\python313\\lib\\site-packages (from scikit-learn) (3.5.0)\n"
     ]
    }
   ],
   "source": [
    "!pip install scikit-learn"
   ]
  },
  {
   "cell_type": "code",
   "execution_count": 6,
   "id": "17cad428-963b-4a31-aa1d-02aa5d989f85",
   "metadata": {},
   "outputs": [],
   "source": [
    "from sklearn.metrics.pairwise import cosine_similarity\n",
    "import pandas as pd\n",
    "import numpy as np\n",
    "import matplotlib.pyplot as plt\n",
    "import seaborn as sns\n",
    "import warnings as wr\n",
    "wr.filterwarnings('ignore')"
   ]
  },
  {
   "cell_type": "code",
   "execution_count": 7,
   "id": "544a7a35-957b-40ec-9562-b023ae415474",
   "metadata": {},
   "outputs": [],
   "source": [
    "customers=pd.read_csv(\"Customers.csv\")\n",
    "Products=pd.read_csv(\"Products.csv\")\n",
    "Transactions=pd.read_csv(\"Transactions.csv\")"
   ]
  },
  {
   "cell_type": "code",
   "execution_count": 8,
   "id": "541043f0-3902-4c91-92cc-1e0270f5f94e",
   "metadata": {},
   "outputs": [],
   "source": [
    "transaction_features = Transactions.groupby('CustomerID').agg({'TotalValue': 'sum'}).reset_index()"
   ]
  },
  {
   "cell_type": "code",
   "execution_count": 9,
   "id": "1e1f3b1f-4086-49a6-a4e7-022e2b8c17d8",
   "metadata": {},
   "outputs": [],
   "source": [
    "customer_feature = customers[['CustomerID', 'Region']]\n",
    "customer_feature['Region'] = customer_feature['Region'].astype('category').cat.codes"
   ]
  },
  {
   "cell_type": "code",
   "execution_count": 10,
   "id": "a05a21b7-48af-4769-88e1-235622032b5d",
   "metadata": {},
   "outputs": [],
   "source": [
    "mergedfeatures = pd.merge(customer_feature, transaction_features, on='CustomerID')\n",
    "mergedfeatures['TotalValue'] = mergedfeatures['TotalValue'] / mergedfeatures['TotalValue'].max()"
   ]
  },
  {
   "cell_type": "code",
   "execution_count": 11,
   "id": "8f88d2c7-8569-45dd-b51e-302c034add28",
   "metadata": {},
   "outputs": [],
   "source": [
    "similaritymatrix = cosine_similarity(mergedfeatures[['Region', 'TotalValue']])"
   ]
  },
  {
   "cell_type": "code",
   "execution_count": 12,
   "id": "b4030c4b-21a1-4f53-bb42-db71cb636b53",
   "metadata": {},
   "outputs": [],
   "source": [
    "lookalikes = {}\n",
    "for i, custid in enumerate(mergedfeatures['CustomerID'][:20]):\n",
    "    similarindices = np.argsort(similaritymatrix[i])[-4:-1]\n",
    "    lookalikes[custid] = [(mergedfeatures['CustomerID'][j], round(similaritymatrix[i][j], 4)) for j in similarindices]"
   ]
  },
  {
   "cell_type": "code",
   "execution_count": 13,
   "id": "42a98f54-bcac-44a1-8195-34f032a110f9",
   "metadata": {},
   "outputs": [
    {
     "name": "stdout",
     "output_type": "stream",
     "text": [
      "Lookalike saved as 'Lookalike.csv'.\n"
     ]
    }
   ],
   "source": [
    "lookalikedf = pd.DataFrame.from_dict(lookalikes, orient='index', columns=['1st Similar', '2nd Similar', '3rd Similar'])\n",
    "lookalikedf.index.name = 'CustomerID'\n",
    "lookalikedf.to_csv('Lookalike.csv')\n",
    "\n",
    "print(\"Lookalike saved as 'Lookalike.csv'.\")"
   ]
  },
  {
   "cell_type": "code",
   "execution_count": null,
   "id": "8f19a3fb-d9e0-4f9c-8253-9a47abc9e110",
   "metadata": {},
   "outputs": [],
   "source": []
  }
 ],
 "metadata": {
  "kernelspec": {
   "display_name": "Python 3 (ipykernel)",
   "language": "python",
   "name": "python3"
  },
  "language_info": {
   "codemirror_mode": {
    "name": "ipython",
    "version": 3
   },
   "file_extension": ".py",
   "mimetype": "text/x-python",
   "name": "python",
   "nbconvert_exporter": "python",
   "pygments_lexer": "ipython3",
   "version": "3.13.1"
  }
 },
 "nbformat": 4,
 "nbformat_minor": 5
}
