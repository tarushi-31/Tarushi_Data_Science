{
 "cells": [
  {
   "cell_type": "code",
   "execution_count": 1,
   "id": "012e90bb-57fa-4901-a852-4d57824e5f8d",
   "metadata": {},
   "outputs": [],
   "source": [
    "import pandas as pd\n",
    "import numpy as np\n",
    "from sklearn.preprocessing import StandardScaler, OneHotEncoder\n",
    "from sklearn.compose import ColumnTransformer\n",
    "from sklearn.pipeline import Pipeline\n",
    "from sklearn.metrics.pairwise import cosine_similarity\n",
    "import matplotlib.pyplot as plt\n",
    "import seaborn as sns\n",
    "from datetime import datetime"
   ]
  },
  {
   "cell_type": "markdown",
   "id": "531653ba-7a70-4754-8d87-5a4a5fc47075",
   "metadata": {},
   "source": [
    "Loading Dataset"
   ]
  },
  {
   "cell_type": "code",
   "execution_count": 3,
   "id": "59a2c116-45e1-4249-ba8d-e2734e51435c",
   "metadata": {},
   "outputs": [],
   "source": [
    "customers = pd.read_csv(\"Customers.csv\")\n",
    "products = pd.read_csv(\"Products.csv\")\n",
    "transactions = pd.read_csv(\"Transactions.csv\")"
   ]
  },
  {
   "cell_type": "markdown",
   "id": "7c166249-be51-48fb-aeb5-637eb3bf619e",
   "metadata": {},
   "source": [
    "Creating Features"
   ]
  },
  {
   "cell_type": "markdown",
   "id": "02aef1d7-d89d-4362-b82f-1f0ba7b95d00",
   "metadata": {},
   "source": [
    "Customer Profile Features"
   ]
  },
  {
   "cell_type": "code",
   "execution_count": 4,
   "id": "ba66d7f5-8a2d-40d2-9da3-9faf05a5b37c",
   "metadata": {},
   "outputs": [],
   "source": [
    "customers['SignupDate'] = pd.to_datetime(customers['SignupDate'])\n",
    "min_date = customers['SignupDate'].min()\n",
    "customers['account_age_days'] = (customers['SignupDate'] - min_date).dt.days"
   ]
  },
  {
   "cell_type": "markdown",
   "id": "42fdaa76-0920-4831-b253-40b8a55352c9",
   "metadata": {},
   "source": [
    "Transaction based Features"
   ]
  },
  {
   "cell_type": "code",
   "execution_count": 5,
   "id": "698aaca0-e918-43b5-b8d7-ad28e3d3e3c0",
   "metadata": {},
   "outputs": [],
   "source": [
    "trans_features = transactions.groupby('CustomerID').agg({\n",
    "    'TransactionID': 'count',\n",
    "    'TotalValue': ['sum', 'mean', 'std'],\n",
    "    'Quantity': ['sum', 'mean', 'std'],\n",
    "    'TransactionDate': ['min', 'max']\n",
    "}).reset_index()"
   ]
  },
  {
   "cell_type": "markdown",
   "id": "d1a475d3-b445-4c87-b913-648580f71f3c",
   "metadata": {},
   "source": [
    "Flatten column names"
   ]
  },
  {
   "cell_type": "code",
   "execution_count": 6,
   "id": "89cefd8b-e2c8-4da3-8dd3-f996a99ec4d2",
   "metadata": {},
   "outputs": [],
   "source": [
    "trans_features.columns = ['CustomerID', 'transaction_count', \n",
    "                        'total_value', 'avg_value', 'std_value',\n",
    "                        'total_quantity', 'avg_quantity', 'std_quantity',\n",
    "                        'first_purchase', 'last_purchase']"
   ]
  },
  {
   "cell_type": "markdown",
   "id": "22374726-03ee-4e14-badd-f0d764eab734",
   "metadata": {},
   "source": [
    "Fil NaN values"
   ]
  },
  {
   "cell_type": "code",
   "execution_count": 21,
   "id": "5b6de80e-5ef5-42f6-920c-e15e9c25fdd2",
   "metadata": {},
   "outputs": [],
   "source": [
    "trans_features = trans_features.fillna(0)"
   ]
  },
  {
   "cell_type": "markdown",
   "id": "17cb932b-65c0-451d-96ff-2134daeb8062",
   "metadata": {},
   "source": [
    "Calculate product category preference"
   ]
  },
  {
   "cell_type": "code",
   "execution_count": 7,
   "id": "f3164444-57f6-480a-847e-fc192af0c93a",
   "metadata": {},
   "outputs": [],
   "source": [
    "trans_products = transactions.merge(products[['ProductID', 'Category']], on='ProductID')\n",
    "category_pivot = pd.pivot_table(\n",
    "    trans_products,\n",
    "    values='TotalValue',\n",
    "    index='CustomerID',\n",
    "    columns='Category',\n",
    "    aggfunc='sum',\n",
    "    fill_value=0\n",
    ")"
   ]
  },
  {
   "cell_type": "markdown",
   "id": "33de7be2-79fa-446c-a0f2-28330e82aa53",
   "metadata": {},
   "source": [
    "Normalize Category Preference"
   ]
  },
  {
   "cell_type": "code",
   "execution_count": 8,
   "id": "d2a9ac96-798f-40f9-bd76-acea479a4e03",
   "metadata": {},
   "outputs": [],
   "source": [
    "category_preferences = category_pivot.div(category_pivot.sum(axis=1), axis=0)"
   ]
  },
  {
   "cell_type": "markdown",
   "id": "54f54e17-fbc6-419e-abc0-dabcb8dcf163",
   "metadata": {},
   "source": [
    "Calculate RFM features"
   ]
  },
  {
   "cell_type": "code",
   "execution_count": 22,
   "id": "ceac0e26-4fc9-4c9c-b342-7b3fe851a20a",
   "metadata": {},
   "outputs": [],
   "source": [
    "current_date = pd.to_datetime(transactions['TransactionDate']).max()\n",
    "rfm = transactions.groupby('CustomerID').agg({\n",
    "    'TransactionDate': lambda x: (current_date - pd.to_datetime(x.max())).days, \n",
    "    'TransactionID': 'count',\n",
    "    'TotalValue': 'sum' \n",
    "}).reset_index()\n",
    "\n",
    "rfm.columns = ['CustomerID', 'recency', 'frequency', 'monetary']"
   ]
  },
  {
   "cell_type": "markdown",
   "id": "8551e04d-d919-4668-adbf-1604d13addc3",
   "metadata": {},
   "source": [
    "Merge all features"
   ]
  },
  {
   "cell_type": "code",
   "execution_count": 11,
   "id": "80b9660b-533c-4c98-b2fb-8c4810037fa6",
   "metadata": {},
   "outputs": [],
   "source": [
    "customer_features = customers.merge(trans_features, on='CustomerID')\n",
    "customer_features = customer_features.merge(category_preferences.reset_index(), on='CustomerID')\n",
    "customer_features = customer_features.merge(rfm, on='CustomerID')"
   ]
  },
  {
   "cell_type": "markdown",
   "id": "9d2e8053-18c5-4ec0-bc00-e9426947b5a0",
   "metadata": {},
   "source": [
    "Fill any remaining NaN values"
   ]
  },
  {
   "cell_type": "code",
   "execution_count": 23,
   "id": "aa3c92da-56be-46ea-b1c3-c7d710f084aa",
   "metadata": {},
   "outputs": [],
   "source": [
    "customer_features = customer_features.fillna(0)"
   ]
  },
  {
   "cell_type": "markdown",
   "id": "026b798f-f00a-4837-89e1-ac36913f4fa0",
   "metadata": {},
   "source": [
    "Feature Processing"
   ]
  },
  {
   "cell_type": "code",
   "execution_count": 24,
   "id": "5d312b5b-acb6-4ea8-91ff-5258406cb100",
   "metadata": {},
   "outputs": [],
   "source": [
    "numeric_features = ['account_age_days', 'transaction_count', 'total_value', \n",
    "                   'avg_value', 'std_value', 'total_quantity', 'avg_quantity', \n",
    "                   'std_quantity', 'recency', 'frequency', 'monetary']\n",
    "categorical_features = ['Region']"
   ]
  },
  {
   "cell_type": "markdown",
   "id": "c033f4fb-883f-460c-9ced-63398848be0c",
   "metadata": {},
   "source": [
    "Creating pre processing Pipeline"
   ]
  },
  {
   "cell_type": "code",
   "execution_count": 28,
   "id": "83c2d186-6ea0-4229-87f9-bb8501761184",
   "metadata": {},
   "outputs": [],
   "source": [
    "preprocessor = ColumnTransformer(\n",
    "    transformers=[\n",
    "        ('num', StandardScaler(), numeric_features),\n",
    "        ('cat', OneHotEncoder(drop='first', sparse_output=False), categorical_features)\n",
    "    ])\n"
   ]
  },
  {
   "cell_type": "markdown",
   "id": "f1ea715d-faf3-4b3c-bf86-7002614c4585",
   "metadata": {},
   "source": [
    "Transform Features"
   ]
  },
  {
   "cell_type": "code",
   "execution_count": 29,
   "id": "d6127418-0946-4420-abe5-203df66576bb",
   "metadata": {},
   "outputs": [],
   "source": [
    "features_processed = preprocessor.fit_transform(customer_features)"
   ]
  },
  {
   "cell_type": "code",
   "execution_count": 30,
   "id": "439e7592-4ddb-47ee-b2a8-e2a76577b115",
   "metadata": {},
   "outputs": [
    {
     "name": "stdout",
     "output_type": "stream",
     "text": [
      "Processed features shape: (199, 14)\n"
     ]
    }
   ],
   "source": [
    "print(f\"Processed features shape: {features_processed.shape}\")"
   ]
  },
  {
   "cell_type": "markdown",
   "id": "ce9d188b-818f-4a2b-90ca-f9aced00dc17",
   "metadata": {},
   "source": [
    "Calculate Similarity"
   ]
  },
  {
   "cell_type": "code",
   "execution_count": 31,
   "id": "b04c6eb7-69a2-4397-96ea-034c024f4f7b",
   "metadata": {},
   "outputs": [
    {
     "name": "stdout",
     "output_type": "stream",
     "text": [
      "Calculating similarity matrix...\n",
      "Similarity matrix shape: (199, 199)\n"
     ]
    }
   ],
   "source": [
    "print(\"Calculating similarity matrix...\")\n",
    "similarity_matrix = cosine_similarity(features_processed)\n",
    "print(f\"Similarity matrix shape: {similarity_matrix.shape}\")"
   ]
  },
  {
   "cell_type": "markdown",
   "id": "090776ca-d063-44f2-9a83-d65a1a5ba460",
   "metadata": {},
   "source": [
    "Getting Top lookalikes"
   ]
  },
  {
   "cell_type": "code",
   "execution_count": 32,
   "id": "c49d90bb-ceb8-4c6b-99ff-48101a05a478",
   "metadata": {},
   "outputs": [
    {
     "name": "stdout",
     "output_type": "stream",
     "text": [
      "Finding lookalikes...\n"
     ]
    }
   ],
   "source": [
    "print(\"Finding lookalikes...\")\n",
    "lookalikes = {}\n",
    "n_recommendations = 3"
   ]
  },
  {
   "cell_type": "markdown",
   "id": "a2428640-2b20-4c81-9226-6fd9ae35e9c6",
   "metadata": {},
   "source": [
    "Fetching lookalikes for first 20 customers"
   ]
  },
  {
   "cell_type": "code",
   "execution_count": 33,
   "id": "9b0366cc-9977-4097-a8a9-a04a3beb62fd",
   "metadata": {},
   "outputs": [],
   "source": [
    "for i, cust_id in enumerate(customer_features['CustomerID'][:20]):\n",
    "    similarities = similarity_matrix[i]\n",
    "    similar_indices = np.argsort(similarities)[-(n_recommendations+1):-1][::-1]\n",
    "    \n",
    "    lookalikes[cust_id] = [\n",
    "        (customer_features['CustomerID'].iloc[idx], round(similarities[idx], 4))\n",
    "        for idx in similar_indices\n",
    "    ]"
   ]
  },
  {
   "cell_type": "markdown",
   "id": "34f8df64-4b5b-401d-84ed-9ffa1f05f49a",
   "metadata": {},
   "source": [
    "Creating and saving output"
   ]
  },
  {
   "cell_type": "code",
   "execution_count": 34,
   "id": "6229d12e-84f4-48c6-bbdf-3c6b3992b416",
   "metadata": {},
   "outputs": [
    {
     "name": "stdout",
     "output_type": "stream",
     "text": [
      "Results saved to 'Tarushi_Saraj_Lookalike.csv'\n"
     ]
    }
   ],
   "source": [
    "lookalike_df = pd.DataFrame.from_dict(\n",
    "    lookalikes,\n",
    "    orient='index',\n",
    "    columns=['1st Similar', '2nd Similar', '3rd Similar']\n",
    ")\n",
    "lookalike_df.index.name = 'CustomerID'\n",
    "lookalike_df.to_csv('Tarushi_Saraj_Lookalike.csv')\n",
    "print(\"Results saved to 'Tarushi_Saraj_Lookalike.csv'\")"
   ]
  },
  {
   "cell_type": "markdown",
   "id": "dd15a06a-9b1e-48a5-b14b-d0f8d49313e3",
   "metadata": {},
   "source": [
    "Now creating Visualizations "
   ]
  },
  {
   "cell_type": "code",
   "execution_count": 35,
   "id": "ef24e9e6-260c-41a4-97e3-5bbe0f50baa3",
   "metadata": {},
   "outputs": [
    {
     "name": "stdout",
     "output_type": "stream",
     "text": [
      "Creating visualizations...\n"
     ]
    }
   ],
   "source": [
    "print(\"Creating visualizations...\")"
   ]
  },
  {
   "cell_type": "markdown",
   "id": "c729143e-bb07-4da0-98d2-2ee8f45ef681",
   "metadata": {},
   "source": [
    "Making the similarity heatmap"
   ]
  },
  {
   "cell_type": "code",
   "execution_count": 37,
   "id": "37c14a99-acca-4ada-8bad-1e0dbbee169e",
   "metadata": {},
   "outputs": [
    {
     "data": {
      "image/png": "[encoded data removed]",
      "text/plain": [
       "<Figure size 1200x800 with 2 Axes>"
      ]
     },
     "metadata": {},
     "output_type": "display_data"
    }
   ],
   "source": [
    "plt.figure(figsize=(12, 8))\n",
    "sns.heatmap(\n",
    "    similarity_matrix[:20, :20],\n",
    "    xticklabels=customer_features['CustomerID'][:20],\n",
    "    yticklabels=customer_features['CustomerID'][:20],\n",
    "    cmap='YlOrRd'\n",
    ")\n",
    "plt.title('Customer Similarity Heatmap (First 20 Customers)')\n",
    "plt.tight_layout()\n",
    "plt.show()\n"
   ]
  },
  {
   "cell_type": "markdown",
   "id": "1ae61480-b7c8-4e5e-b119-c088f71a12ae",
   "metadata": {},
   "source": [
    "Showing Feature importance based on variance"
   ]
  },
  {
   "cell_type": "code",
   "execution_count": 38,
   "id": "de0dce83-31bc-4426-9c16-c0fb6f8b4933",
   "metadata": {},
   "outputs": [
    {
     "data": {
      "image/png": "[encoded data removed]",
      "text/plain": [
       "<Figure size 1200x600 with 1 Axes>"
      ]
     },
     "metadata": {},
     "output_type": "display_data"
    },
    {
     "name": "stdout",
     "output_type": "stream",
     "text": [
      "Analysis complete!\n"
     ]
    }
   ],
   "source": [
    "importance = np.var(features_processed, axis=0)\n",
    "plt.figure(figsize=(12, 6))\n",
    "plt.bar(range(len(importance)), importance)\n",
    "plt.title('Feature Importance Based on Variance')\n",
    "plt.tight_layout()\n",
    "plt.show()\n",
    "\n",
    "print(\"Analysis complete!\")"
   ]
  },
  {
   "cell_type": "code",
   "execution_count": null,
   "id": "a37729dd-63d7-465c-8e3a-4b90e86bfd3c",
   "metadata": {},
   "outputs": [],
   "source": []
  }
 ],
 "metadata": {
  "kernelspec": {
   "display_name": "Python 3 (ipykernel)",
   "language": "python",
   "name": "python3"
  },
  "language_info": {
   "codemirror_mode": {
    "name": "ipython",
    "version": 3
   },
   "file_extension": ".py",
   "mimetype": "text/x-python",
   "name": "python",
   "nbconvert_exporter": "python",
   "pygments_lexer": "ipython3",
   "version": "3.13.1"
  }
 },
 "nbformat": 4,
 "nbformat_minor": 5
}
